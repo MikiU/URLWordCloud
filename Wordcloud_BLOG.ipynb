{
 "cells": [
  {
   "cell_type": "code",
   "execution_count": null,
   "id": "a4fbd829-bf58-4591-a15e-311d1c434c73",
   "metadata": {},
   "outputs": [],
   "source": [
    "from urllib import request\n",
    "from bs4 import BeautifulSoup\n",
    "import re\n",
    "import pandas as pd\n",
    "import nltk\n",
    "from nltk.tokenize import sent_tokenize, RegexpTokenizer, TreebankWordTokenizer, word_tokenize\n",
    "tokenizer = TreebankWordTokenizer()\n",
    "from nltk.probability import FreqDist\n",
    "import matplotlib.pyplot as plt\n",
    "from wordcloud import WordCloud"
   ]
  },
  {
   "cell_type": "code",
   "execution_count": null,
   "id": "ae69723f-5b24-4499-b57c-deed8c040120",
   "metadata": {},
   "outputs": [],
   "source": [
    "url = input('Wklej analizowany adres URL:')"
   ]
  },
  {
   "cell_type": "code",
   "execution_count": null,
   "id": "f1b0b6e0-5a07-4004-8bae-351f696da0ed",
   "metadata": {},
   "outputs": [],
   "source": [
    "text = request.urlopen(url).read().decode('utf-8')\n",
    "soup = BeautifulSoup(text, \"html.parser\")\n",
    "paragraf = soup.find_all('p')\n",
    "text = \"\\n\".join(p.get_text() for p in paragraf)\n",
    "text"
   ]
  },
  {
   "cell_type": "code",
   "execution_count": null,
   "id": "098663a1-910c-40fd-b3d4-47bace633af3",
   "metadata": {},
   "outputs": [],
   "source": [
    "len(text)"
   ]
  },
  {
   "cell_type": "code",
   "execution_count": null,
   "id": "facda9e8-7673-4a4c-80c3-039ba9df1c00",
   "metadata": {},
   "outputs": [],
   "source": [
    "reg_int = re.sub(\"\\d+\", \"\", text)\n",
    "reg_int"
   ]
  },
  {
   "cell_type": "code",
   "execution_count": null,
   "id": "f3494494-b313-48b4-a352-e0127f2b8d16",
   "metadata": {},
   "outputs": [],
   "source": [
    "len(reg_int)"
   ]
  },
  {
   "cell_type": "code",
   "execution_count": null,
   "id": "04452ac8-715e-430e-b5da-b3f8b7641d62",
   "metadata": {},
   "outputs": [],
   "source": [
    "len(text) - len(reg_int)"
   ]
  },
  {
   "cell_type": "code",
   "execution_count": null,
   "id": "f1a10852-9017-47af-b34d-3126239fd46f",
   "metadata": {},
   "outputs": [],
   "source": [
    "url_stop = \"https://raw.githubusercontent.com/bieli/stopwords/master/polish.stopwords.txt\""
   ]
  },
  {
   "cell_type": "code",
   "execution_count": null,
   "id": "77abc8fb-c06e-4cfe-a8b0-2ad22e5cc2ef",
   "metadata": {},
   "outputs": [],
   "source": [
    "text_stop = request.urlopen(url_stop).read().decode('utf-8')\n",
    "text_stop = text_stop.split('\\n')"
   ]
  },
  {
   "cell_type": "code",
   "execution_count": null,
   "id": "b1158568-93fc-4b41-95de-1d9a0ea4eb29",
   "metadata": {},
   "outputs": [],
   "source": [
    "stop_w_delete = [word for word in reg_int.split() if word.lower() not in text_stop]\n",
    "stop_w_delete"
   ]
  },
  {
   "cell_type": "code",
   "execution_count": null,
   "id": "403c7b2a-17f5-4eda-98b7-7ab2689773ad",
   "metadata": {},
   "outputs": [],
   "source": [
    "len(stop_w_delete)"
   ]
  },
  {
   "cell_type": "code",
   "execution_count": null,
   "id": "32efc902-63e1-479b-89c8-48aa160548f7",
   "metadata": {},
   "outputs": [],
   "source": [
    "x = re.sub('[^A-Za-zżźćńółęąśŻŹĆĄŚĘŁÓŃ]', ' ', str(stop_w_delete))\n",
    "x"
   ]
  },
  {
   "cell_type": "code",
   "execution_count": null,
   "id": "2551167e-6882-49ef-a34e-f3fb6a046271",
   "metadata": {},
   "outputs": [],
   "source": [
    "fdist = FreqDist()\n",
    "for word in word_tokenize(x):\n",
    "    fdist[word.lower()] += 1"
   ]
  },
  {
   "cell_type": "code",
   "execution_count": null,
   "id": "15ce7acb-a1ce-44b7-9231-e7cdb743df2a",
   "metadata": {},
   "outputs": [],
   "source": [
    "fdist"
   ]
  },
  {
   "cell_type": "code",
   "execution_count": null,
   "id": "819f26f0-c57d-45d3-9eaa-e4401dece073",
   "metadata": {},
   "outputs": [],
   "source": [
    "freqdist = nltk.FreqDist(fdist)\n",
    "plt.figure(figsize=(10,5))\n",
    "plt.title('Częstotliwość występowania słowa (tokenów)')\n",
    "freqdist.plot(20)"
   ]
  },
  {
   "cell_type": "code",
   "execution_count": null,
   "id": "9c6638b3-a852-4455-866d-61c5038b46ca",
   "metadata": {},
   "outputs": [],
   "source": [
    "wc = WordCloud(stopwords=text_stop, repeat='false',max_words = 100, width=800, height=400).generate(x)\n",
    "plt.imshow(wc)\n",
    "plt.axis('off')"
   ]
  }
 ],
 "metadata": {
  "kernelspec": {
   "display_name": "Python 3",
   "language": "python",
   "name": "python3"
  },
  "language_info": {
   "codemirror_mode": {
    "name": "ipython",
    "version": 3
   },
   "file_extension": ".py",
   "mimetype": "text/x-python",
   "name": "python",
   "nbconvert_exporter": "python",
   "pygments_lexer": "ipython3",
   "version": "3.8.8"
  }
 },
 "nbformat": 4,
 "nbformat_minor": 5
}
